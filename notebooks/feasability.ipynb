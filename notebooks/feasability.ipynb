{
 "cells": [
  {
   "attachments": {},
   "cell_type": "markdown",
   "metadata": {},
   "source": [
    "## CREATE TABLE AND POPULATE WITH EMBEDDINGS"
   ]
  },
  {
   "cell_type": "code",
   "execution_count": 4,
   "metadata": {},
   "outputs": [],
   "source": [
    "import json\n",
    "import os\n",
    "import psycopg2\n",
    "import pickle\n",
    "\n",
    "import numpy as np\n",
    "import pandas as pd\n",
    "from scipy.sparse import csr_matrix\n",
    "from sklearn.feature_extraction.text import TfidfVectorizer\n"
   ]
  },
  {
   "cell_type": "code",
   "execution_count": 2,
   "metadata": {},
   "outputs": [
    {
     "data": {
      "text/plain": [
       "{'tfidf': {'max_ratio': '0.9,', 'min_ratio': '0.1,', 'max_features': 800},\n",
       " 'word2vec': {'size': '300,',\n",
       "  'window': '5,',\n",
       "  'min_count': '1,',\n",
       "  'workers': '4,',\n",
       "  'sg': '1,',\n",
       "  'hs': '0,',\n",
       "  'negative': '5,',\n",
       "  'epochs': 10}}"
      ]
     },
     "execution_count": 2,
     "metadata": {},
     "output_type": "execute_result"
    }
   ],
   "source": [
    "default_config"
   ]
  },
  {
   "cell_type": "code",
   "execution_count": 2,
   "metadata": {},
   "outputs": [],
   "source": [
    "# load data \n",
    "df = pd.read_csv(\"/Users/mariavivo/repos/meri/jurisprudence-semantic-search/data/train_test_set.csv\")\n",
    "\n",
    "data = df[\"clean_fundamentos\"].to_list()"
   ]
  },
  {
   "cell_type": "code",
   "execution_count": 5,
   "metadata": {},
   "outputs": [],
   "source": [
    "# generate tf-idf 800-dimensional embeddings\n",
    "max_ratio = 0.9\n",
    "min_ratio = 0.1\n",
    "max_dim = 800\n",
    "\n",
    "vectorizer = TfidfVectorizer(max_df=max_ratio, \n",
    "                             min_df=min_ratio, \n",
    "                             max_features=max_dim)\n",
    "\n",
    "\n",
    "tfidf_vectors = vectorizer.fit_transform(data)\n",
    "\n",
    "# save resulting vectors and model\n",
    "base_path = \"/Users/mariavivo/repos/meri/jurisprudence-semantic-search/data\"\n",
    "vectors_path = os.path.join(base_path, \"embeddings\", \"tfidf_embeddings.npy\")\n",
    "vectorizer_path = os.path.join(base_path, \"models\", \"vectorizer.pickle\")\n",
    "\n",
    "embeddings = np.array(tfidf_vectors)\n",
    "np.save(vectors_path, embeddings)\n",
    "\n",
    "pickle.dump(vectorizer, vectorizer_path, \"wb\")"
   ]
  },
  {
   "cell_type": "code",
   "execution_count": 109,
   "metadata": {},
   "outputs": [],
   "source": [
    "# load embeddings\n",
    "sparse_embeddings = csr_matrix(np.load(vectors_path, allow_pickle=True).all())\n",
    "dense_embeddings = sparse_embeddings.toarray()\n",
    "\n",
    "# format adequately to insert into db\n",
    "dense_embedding_list = [[embedding.tolist()] for embedding in dense_embeddings]"
   ]
  },
  {
   "cell_type": "code",
   "execution_count": 17,
   "metadata": {},
   "outputs": [],
   "source": [
    "# connect to db\n",
    "# first execute in terminal: pg_ctl -D /opt/homebrew/var/postgresql@14 -o \"-p 5433\" start\n",
    "conn = psycopg2.connect(\n",
    "    host=\"localhost\",\n",
    "    database=\"juris\",\n",
    "    user=\"mariavivop\",\n",
    "    password=\"424242\",\n",
    "    port=\"5433\"\n",
    ")\n",
    "\n",
    "cursor = conn.cursor()"
   ]
  },
  {
   "cell_type": "code",
   "execution_count": 19,
   "metadata": {},
   "outputs": [],
   "source": [
    "# create table\n",
    "cursor.execute(open(\"/Users/mariavivo/repos/meri/jurisprudence-semantic-search/create_vectorial_db.sql\", \"r\").read())"
   ]
  },
  {
   "cell_type": "code",
   "execution_count": 102,
   "metadata": {},
   "outputs": [],
   "source": [
    "# SQL statement to insert vectors into the table\n",
    "sql = \"INSERT INTO tfidf_vectors (vector) VALUES (%s)\"\n",
    "\n",
    "# Execute the SQL statement with multiple sets of parameters\n",
    "cursor.executemany(sql, dense_embedding_list)\n",
    "\n",
    "# Commit the changes to the database\n",
    "conn.commit()"
   ]
  },
  {
   "cell_type": "code",
   "execution_count": null,
   "metadata": {},
   "outputs": [],
   "source": [
    "# verify insertion\n",
    "cursor.execute(\"SELECT * FROM tfidf_vectors\")\n",
    "see_embedings = cursor.fetchall()"
   ]
  },
  {
   "cell_type": "code",
   "execution_count": null,
   "metadata": {},
   "outputs": [],
   "source": [
    "# Close the cursor and the database connection\n",
    "cursor.close()\n",
    "conn.close()"
   ]
  }
 ],
 "metadata": {
  "kernelspec": {
   "display_name": "tfm",
   "language": "python",
   "name": "python3"
  },
  "language_info": {
   "codemirror_mode": {
    "name": "ipython",
    "version": 3
   },
   "file_extension": ".py",
   "mimetype": "text/x-python",
   "name": "python",
   "nbconvert_exporter": "python",
   "pygments_lexer": "ipython3",
   "version": "3.10.11"
  },
  "orig_nbformat": 4
 },
 "nbformat": 4,
 "nbformat_minor": 2
}
